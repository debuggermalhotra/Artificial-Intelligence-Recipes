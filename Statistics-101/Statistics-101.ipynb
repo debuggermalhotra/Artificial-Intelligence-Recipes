{
 "cells": [
  {
   "cell_type": "markdown",
   "metadata": {},
   "source": [
    "### Descriptive and basic statistics terms/concepts explained with their python code.\n"
   ]
  },
  {
   "cell_type": "code",
   "execution_count": 1,
   "metadata": {
    "collapsed": true
   },
   "outputs": [],
   "source": [
    "#imports\n",
    "import numpy as np  #the saviour\n",
    "from statistics import mode\n",
    "import matplotlib.pyplot as plt\n",
    "from scipy import stats"
   ]
  },
  {
   "cell_type": "code",
   "execution_count": 2,
   "metadata": {
    "collapsed": false
   },
   "outputs": [
    {
     "name": "stdout",
     "output_type": "stream",
     "text": [
      "Our Distribution:  [ 1  1  1  4  6  8  3 25  7 56 45 67 89 44 44  6 56 34 23 43 46  8 99  9  9\n",
      "  9  9  0  3  4  4  4  4  4  5 12 13 14 15]\n",
      "Number of scores:  39\n",
      "Number of uniques scores:  24\n",
      "Sum:  834\n",
      "Maximum:  99\n",
      "Minimum:  0\n",
      "Range:  99\n",
      "Mean:  21.3846153846\n",
      "Median:  9.0\n",
      "Mode:  4\n",
      "Variance:  622.287968442\n",
      "Standard Deviation:  24.9457003999\n",
      "1st quartile:  4.0\n",
      "3rd quartile:  38.5\n",
      "Interquartile Range:  34.5\n",
      "Distribution Skew:  1.5025542613555614\n"
     ]
    }
   ],
   "source": [
    "    distribution=[1,1,1,4,6,8,3,25,7,56,45,67,89,44,44,6,56,34,23,43,46,8,99,9,9,9,9,0,3,4,4,4,4,4,5,12,13,14,15] \n",
    "    dist=np.array(distribution)\n",
    "    \n",
    "    print(\"Our Distribution: \",dist)\n",
    "    print(\"Number of scores: \",len(dist))\n",
    "    print(\"Number of uniques scores: \",len(np.unique(dist)))\n",
    "    print(\"Sum: \",sum(dist))\n",
    "    print(\"Maximum: \",max(dist))\n",
    "    print(\"Minimum: \",min(dist))\n",
    "    print(\"Range: \",max(dist)-min(dist))\n",
    "    print(\"Mean: \",np.mean(dist, axis=0))\n",
    "    print(\"Median: \",np.median(dist, axis=0))\n",
    "    print(\"Mode: \",stats.mode(dist)[0][0]) #yes, numpy doesn't support mode functionality\n",
    "    print(\"Variance: \",np.var(dist, axis=0))\n",
    "    print(\"Standard Deviation: \",np.std(dist, axis=0))\n",
    "    print(\"1st quartile: \",np.percentile(dist, 25))\n",
    "    print(\"3rd quartile: \",np.percentile(dist, 75))\n",
    "    print(\"Interquartile Range: \",np.percentile(dist, 75)-np.percentile(dist, 25))\n",
    "    print(\"Distribution Skew: \",stats.skew(dist))"
   ]
  },
  {
   "cell_type": "markdown",
   "metadata": {},
   "source": [
    "#### Plotting a Histogram of distribution scores\n"
   ]
  },
  {
   "cell_type": "code",
   "execution_count": 3,
   "metadata": {
    "collapsed": false,
    "scrolled": true
   },
   "outputs": [
    {
     "data": {
      "image/png": "[encoded data removed]",
      "text/plain": [
       "<matplotlib.figure.Figure at 0x1047264a8>"
      ]
     },
     "metadata": {},
     "output_type": "display_data"
    }
   ],
   "source": [
    "plt.hist(dist, bins=len(dist))\n",
    "plt.yticks(np.arange(0, 6, 1.0))\n",
    "plt.title('Histogram of distribution scores')\n",
    "plt.show()"
   ]
  },
  {
   "cell_type": "code",
   "execution_count": null,
   "metadata": {
    "collapsed": true
   },
   "outputs": [],
   "source": []
  }
 ],
 "metadata": {
  "anaconda-cloud": {},
  "kernelspec": {
   "display_name": "Python 3",
   "language": "python",
   "name": "python3"
  },
  "language_info": {
   "codemirror_mode": {
    "name": "ipython",
    "version": 3
   },
   "file_extension": ".py",
   "mimetype": "text/x-python",
   "name": "python",
   "nbconvert_exporter": "python",
   "pygments_lexer": "ipython3",
   "version": "3.5.2"
  }
 },
 "nbformat": 4,
 "nbformat_minor": 1
}
